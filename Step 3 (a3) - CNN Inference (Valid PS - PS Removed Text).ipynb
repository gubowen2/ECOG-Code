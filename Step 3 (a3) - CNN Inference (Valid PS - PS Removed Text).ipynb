{
 "cells": [
  {
   "cell_type": "code",
   "execution_count": null,
   "id": "80a63e12",
   "metadata": {},
   "outputs": [],
   "source": [
    "# import libraries\n",
    "import pandas as pd\n",
    "import numpy as np\n",
    "import pickle\n",
    "\n",
    "from tensorflow.keras.preprocessing import sequence\n",
    "from tensorflow.keras.models import Sequential, Model\n",
    "from tensorflow.keras.layers import Input, Dense, Dropout, Activation, concatenate, Average\n",
    "from tensorflow.keras.layers import Embedding\n",
    "from tensorflow.keras import initializers, regularizers, constraints, optimizers, layers\n",
    "\n",
    "from tensorflow.keras.layers import Conv1D, GlobalMaxPooling1D, LSTM, TimeDistributed, GRU, Bidirectional, Layer\n",
    "from tensorflow.keras import backend as K\n",
    "\n",
    "import tensorflow as tf\n",
    "import os"
   ]
  },
  {
   "cell_type": "code",
   "execution_count": null,
   "id": "91ac91fe",
   "metadata": {},
   "outputs": [],
   "source": [
    "# load tokenizer if already trained\n",
    "with open('notes_tokenizer_ps_find.pickle', 'rb') as handle:\n",
    "    tokenizer = pickle.load(handle)"
   ]
  },
  {
   "cell_type": "code",
   "execution_count": null,
   "id": "36d1a6c4",
   "metadata": {},
   "outputs": [],
   "source": [
    "data = pd.read_csv(\"all_clinical_notes (Valid PS).csv\")\n",
    "data = data.fillna(\"\")\n",
    "data"
   ]
  },
  {
   "cell_type": "code",
   "execution_count": null,
   "id": "863adcb5",
   "metadata": {},
   "outputs": [],
   "source": [
    "train_data = data[data[\"split\"] == \"train\"]\n",
    "valid_data = data[data[\"split\"] == \"validation\"]\n",
    "test_data = data[data[\"split\"] == \"test\"] "
   ]
  },
  {
   "cell_type": "code",
   "execution_count": null,
   "id": "769f9706",
   "metadata": {},
   "outputs": [],
   "source": [
    "vocab_size = 10000\n",
    "max_note_length = 2000\n",
    "\n",
    "x_text_train = sequence.pad_sequences(tokenizer.texts_to_sequences([str(x) for x in train_data['text_no_ps']]), maxlen=max_note_length, padding='post')\n",
    "x_text_valid = sequence.pad_sequences(tokenizer.texts_to_sequences([str(x) for x in valid_data['text_no_ps']]), maxlen=max_note_length, padding='post')\n",
    "x_text_test = sequence.pad_sequences(tokenizer.texts_to_sequences([str(x) for x in test_data['text_no_ps']]), maxlen=max_note_length, padding='post')"
   ]
  },
  {
   "cell_type": "code",
   "execution_count": null,
   "id": "64443a21",
   "metadata": {},
   "outputs": [],
   "source": [
    "def get_simple_model(target):\n",
    "    vocab_size = 10000\n",
    "    embedding_dims = 256\n",
    "    filters = 250\n",
    "    kernel_size = 3\n",
    "    epochs = 2\n",
    "    hidden_dims = 128\n",
    "    max_note_length=2000\n",
    "    batch_size = 32\n",
    "\n",
    "\n",
    "    # make model\n",
    "    text_input = Input(shape=(max_note_length,), dtype='float32')\n",
    "\n",
    "    text_embed = Embedding(vocab_size, embedding_dims, input_length=max_note_length, mask_zero=False)(text_input)\n",
    "    \n",
    "    cnn1 = Conv1D(filters=500, kernel_size=kernel_size, strides=1, padding='valid')(text_embed)\n",
    "    x = GlobalMaxPooling1D()(cnn1)\n",
    "\n",
    "    hidden = Dense(hidden_dims)(x)\n",
    "    hidden = Activation('relu')(hidden)\n",
    "\n",
    "    output = Dense(1, activation='linear')(hidden)\n",
    "\n",
    "    model = Model(inputs=text_input, outputs=output)\n",
    "\n",
    "    model.compile(loss=tf.keras.losses.BinaryCrossentropy(from_logits=True),\n",
    "                  optimizer='adam',\n",
    "                  metrics=['accuracy'])\n",
    "\n",
    "    return model"
   ]
  },
  {
   "cell_type": "code",
   "execution_count": null,
   "id": "7db8bffa",
   "metadata": {},
   "outputs": [],
   "source": [
    "this_model = get_simple_model('ps_high')\n",
    "this_model.load_weights('ps_high'+'.h5')"
   ]
  },
  {
   "cell_type": "code",
   "execution_count": null,
   "id": "a4706d35",
   "metadata": {},
   "outputs": [],
   "source": [
    "train_logits_list = this_model.predict(x_text_train)\n",
    "val_logits_list = this_model.predict(x_text_valid)\n",
    "test_logits_list = this_model.predict(x_text_test)"
   ]
  },
  {
   "cell_type": "code",
   "execution_count": null,
   "id": "ee3c318c",
   "metadata": {},
   "outputs": [],
   "source": [
    "def generate_logits_and_probability(logits_list):\n",
    "    logits_list = [logit[0] for logit in logits_list]\n",
    "    # Logits\n",
    "    logit_class_1 = logits_list\n",
    "    logit_class_0 = [-logit for logit in logits_list]\n",
    "\n",
    "    # Probabilities\n",
    "    probability_class_1 = [tf.math.sigmoid(logit).numpy() for logit in logits_list]\n",
    "    probability_class_0 = [1 - tf.math.sigmoid(logit).numpy() for logit in logits_list]\n",
    "    \n",
    "    prediction = [1 if a > b else 0 for a, b in zip(probability_class_1, probability_class_0)]\n",
    "    \n",
    "    return logit_class_1, logit_class_0, probability_class_1, probability_class_0, prediction"
   ]
  },
  {
   "cell_type": "code",
   "execution_count": null,
   "id": "32f3ff3f",
   "metadata": {},
   "outputs": [],
   "source": [
    "train_logit_class_1, train_logit_class_0, train_probability_class_1, train_probability_class_0, train_prediction = generate_logits_and_probability(train_logits_list)\n",
    "train_data[\"Prediction\"] = train_prediction\n",
    "train_data[\"Logits (Class 0)\"] = train_logit_class_0\n",
    "train_data[\"Logits (Class 1)\"] = train_logit_class_1\n",
    "train_data[\"Probability (Class 0)\"] = train_probability_class_0\n",
    "train_data[\"Probability (Class 1)\"] = train_probability_class_1\n",
    "train_data"
   ]
  },
  {
   "cell_type": "code",
   "execution_count": null,
   "id": "39ba24c9",
   "metadata": {},
   "outputs": [],
   "source": [
    "train_data.to_csv(\"CNN train result (Valid PS - PS Removed text).csv\",index = False)"
   ]
  },
  {
   "cell_type": "code",
   "execution_count": null,
   "id": "05a42b10",
   "metadata": {},
   "outputs": [],
   "source": [
    "val_logit_class_1, val_logit_class_0, val_probability_class_1, val_probability_class_0, val_prediction = generate_logits_and_probability(val_logits_list)\n",
    "valid_data[\"Prediction\"] = val_prediction\n",
    "valid_data[\"Logits (Class 0)\"] = val_logit_class_0\n",
    "valid_data[\"Logits (Class 1)\"] = val_logit_class_1\n",
    "valid_data[\"Probability (Class 0)\"] = val_probability_class_0\n",
    "valid_data[\"Probability (Class 1)\"] = val_probability_class_1\n",
    "valid_data"
   ]
  },
  {
   "cell_type": "code",
   "execution_count": null,
   "id": "b65fd831",
   "metadata": {},
   "outputs": [],
   "source": [
    "valid_data.to_csv(\"CNN validation result (Valid PS - PS Removed text).csv\",index = False)"
   ]
  },
  {
   "cell_type": "code",
   "execution_count": null,
   "id": "2a3d54a5",
   "metadata": {},
   "outputs": [],
   "source": [
    "test_logit_class_1, test_logit_class_0, test_probability_class_1, test_probability_class_0, test_prediction = generate_logits_and_probability(test_logits_list)\n",
    "test_data[\"Prediction\"] = test_prediction\n",
    "test_data[\"Logits (Class 0)\"] = test_logit_class_0\n",
    "test_data[\"Logits (Class 1)\"] = test_logit_class_1\n",
    "test_data[\"Probability (Class 0)\"] = test_probability_class_0\n",
    "test_data[\"Probability (Class 1)\"] = test_probability_class_1\n",
    "test_data"
   ]
  },
  {
   "cell_type": "code",
   "execution_count": null,
   "id": "7fd35140",
   "metadata": {},
   "outputs": [],
   "source": [
    "test_data.to_csv(\"CNN test result (Valid PS - PS Removed text).csv\",index = False)"
   ]
  }
 ],
 "metadata": {
  "kernelspec": {
   "display_name": "Python 3 (ipykernel)",
   "language": "python",
   "name": "python3"
  },
  "language_info": {
   "codemirror_mode": {
    "name": "ipython",
    "version": 3
   },
   "file_extension": ".py",
   "mimetype": "text/x-python",
   "name": "python",
   "nbconvert_exporter": "python",
   "pygments_lexer": "ipython3",
   "version": "3.8.17"
  }
 },
 "nbformat": 4,
 "nbformat_minor": 5
}
